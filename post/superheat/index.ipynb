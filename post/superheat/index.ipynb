{
  "cells": [
    {
      "cell_type": "raw",
      "metadata": {},
      "source": [
        "---\n",
        "title: Including superheat in the compressor regression\n",
        "author: Fábio P. Fortkamp\n",
        "date: '2022-04-20'\n",
        "slug: superheat\n",
        "categories:\n",
        "  - Articles\n",
        "tags:\n",
        "  - compressors\n",
        "  - regression\n",
        "  - machine learning\n",
        "  - python\n",
        "  - scikit-learn\n",
        "  - refrigeration\n",
        "  - pandas\n",
        "  - data science\n",
        "---"
      ],
      "id": "f30605a8"
    },
    {
      "cell_type": "markdown",
      "metadata": {},
      "source": [
        "We are always learning. After studying more about compressor datasheets, I realized that I forgot to include the superheat in [yesterday's](https://fpfortkamp.com/post/compressor/) post. Let's fix that.\n",
        "\n",
        "The main problem is that, in every calculation, I took the inlet state as saturated vapor in the given evaporating temperature, when in reality the [datasheet](https://products.embraco.com/commtrol/api/pdf/compressor/datasheet/7187?&condensing_temperature=54.4&evaporating_temperature=-23.3&units=w&units_temp=metric-system&filters%5Bbare%5D=513701421&filters%5Brefrigerant%5D%5B%5D=R-600a&filters%5Bstandard%5D=ASHRAE&filters%5Bfrequency%5D=60)  specifies that the vapor always enters at 32.2 ºC.\n",
        "\n",
        "\n",
        "{{< figure src=\"datasheet.png\" >}}\n",
        "\n",
        "\n",
        "\n",
        "So let's start again. We will read the dataset with [pandas](https://pandas.pydata.org/?msclkid=29caa245bff611ec80ba73d4aced3042):\n"
      ],
      "id": "21c5ba48"
    },
    {
      "cell_type": "code",
      "metadata": {},
      "source": [
        "import pandas as pd\n",
        "\n",
        "df = pd.read_csv(\"compressor.csv\",delimiter=',')\n",
        "print(df)"
      ],
      "id": "7d6673c8",
      "execution_count": null,
      "outputs": []
    },
    {
      "cell_type": "markdown",
      "metadata": {},
      "source": [
        "The sections below are mostly a repetition, but we'll update the equations where necessary:\n",
        "\n",
        "## How to calculate the mass flow rate of a compressor?\n",
        "\n",
        "A reciprocating compressor like this one is a *volumetric* machine: it displaces a certain volume of fluid, based on its internal geometry, and the mass flow rate depends on the suction state.\n",
        "\n",
        "The most basic, **ideal** model is then:\n",
        "\n",
        "$$\n",
        "\\dot{m} = \\frac{\\dot{\\mathcal{V}} _{\\mathrm{D}}}{v _{\\mathrm{in}}}\n",
        "$$\n",
        "\n",
        "where the numerator is the displacement rate; for a compressor with $z$ cylinders at a fixed rotation speed $n$ it can be calculated\n",
        "\n",
        "$$\n",
        "\\dot{\\mathcal{V}} _{\\mathrm{D}} = {\\mathcal{V}} _{\\mathrm{D}} n z\n",
        "$$\n",
        "\n",
        "where $\\mathcal{V} _{\\mathrm{D}}$ is the internal displacement.\n",
        "\n",
        "Let's plot the actual mass flow rate from the datasheet (using the geometric parameters from it) and the above model to compare:\n"
      ],
      "id": "daf767d0"
    },
    {
      "cell_type": "code",
      "metadata": {},
      "source": [
        "import matplotlib.pyplot as plt\n",
        "from CoolProp.CoolProp import PropsSI\n",
        "import numpy as np\n",
        "\n",
        "plt.rc('font', size=12)\n",
        "\n",
        "Vd = 13.54e-6 # in m3\n",
        "n = 60 #Hz\n",
        "z = 1\n",
        "fluid = 'R600a'\n",
        "Treturn = 32.2 + 273\n",
        "\n",
        "Vd_dot = Vd * n * z # m3/s\n",
        "T_evap = df[\"Evaporating Temperature [C]\"].values\n",
        "m_dot_actual = df[\"Gas Flow Rate [kg/h]\"].values\n",
        "\n",
        "# we take the inverse of the density \n",
        "# of the vapor at the evaporing *pressure*\n",
        "# and the return gas temperature\n",
        "v_in = np.array([(1.0/PropsSI(\"D\",\"T\",Treturn,\"P\",PropsSI(\"P\",\"T\",Te+273,\"Q\",1,fluid),fluid)) for Te in T_evap])\n",
        "m_dot_ideal = 3600*Vd_dot/v_in\n",
        "\n",
        "fig, ax = plt.subplots()\n",
        "ax.plot(T_evap,m_dot_ideal,'k-',label=\"Ideal\")\n",
        "ax.plot(T_evap,m_dot_actual,'ko',label=\"Actual\")\n",
        "ax.set_xlabel(\"Evaporating temperature [ºC]\")\n",
        "ax.set_ylabel(\"Gas flow rate [kg/h]\")\n",
        "ax.legend()\n",
        "ax.grid()\n",
        "plt.show()"
      ],
      "id": "156bc983",
      "execution_count": null,
      "outputs": []
    },
    {
      "cell_type": "markdown",
      "metadata": {},
      "source": [
        "Clearly our model is not good enough! There is a *volumetric efficiency* that is influenced by dead volumes and leakages:\n",
        "\n",
        "$$\n",
        "\\eta_{\\mathrm{v}} = \\frac{\\dot{m}}{\\frac{\\dot{\\mathcal{V}} _{\\mathrm{D}}}{v _{\\mathrm{in}}}}\n",
        "$$\n"
      ],
      "id": "736177e8"
    },
    {
      "cell_type": "code",
      "metadata": {},
      "source": [
        "eta_v = m_dot_actual/m_dot_ideal*100\n",
        "fig2, ax2 = plt.subplots()\n",
        "\n",
        "ax2.plot(T_evap,m_dot_actual,'ko-',label=\"Actual mass flow rate\")\n",
        "ax2.set_xlabel(\"Evaporating temperature [ºC]\")\n",
        "ax2.set_ylabel(\"Gas flow rate [kg/h] (dots)\")\n",
        "\n",
        "ax3 = ax2.twinx()\n",
        "ax3.plot(T_evap,eta_v,'kx--',label=\"Volumetric efficiency\")\n",
        "ax3.set_ylabel(\"Volumetric efficiency [%] (x)\")\n",
        "ax2.grid()\n",
        "\n",
        "plt.show()"
      ],
      "id": "5cdb45e8",
      "execution_count": null,
      "outputs": []
    },
    {
      "cell_type": "markdown",
      "metadata": {},
      "source": [
        "### What influences the volumetric efficiency?\n",
        "\n",
        "The volumetric efficiency depends primarily on the pressure ratio between condensing and evaporating levels:\n",
        "\n",
        "$$\n",
        "r _{\\mathrm{p}} = \\frac{P _{\\mathrm{cond}}}{P _{\\mathrm{evap}}}\n",
        "$$\n",
        "\n",
        "So let's plot that:\n"
      ],
      "id": "137cb41a"
    },
    {
      "cell_type": "code",
      "metadata": {},
      "source": [
        "eta_v = m_dot_actual/m_dot_ideal\n",
        "\n",
        "Pcond = PropsSI(\"P\",\"T\",df[\"Condensing temperature [C]\"].values[0]+273,\"Q\",1,fluid)\n",
        "Pevap = np.array([PropsSI(\"P\",\"T\",Te+273,\"Q\",1,fluid) for Te in T_evap])\n",
        "rp = Pcond/Pevap\n",
        "fig20, ax20 = plt.subplots()\n",
        "\n",
        "\n",
        "\n",
        "ax20.plot(rp,eta_v,'ko-')\n",
        "ax20.set_xlabel(\"Pressure ratio\")\n",
        "ax20.set_ylabel(\"Volumetric efficiency\")\n",
        "\n",
        "plt.show()"
      ],
      "id": "00030cf4",
      "execution_count": null,
      "outputs": []
    },
    {
      "cell_type": "markdown",
      "metadata": {},
      "source": [
        "Maybe we can use a log-log plot?\n"
      ],
      "id": "6c5aafda"
    },
    {
      "cell_type": "code",
      "metadata": {},
      "source": [
        "eta_v = m_dot_actual/m_dot_ideal\n",
        "\n",
        "Pcond = PropsSI(\"P\",\"T\",df[\"Condensing temperature [C]\"].values[0]+273,\"Q\",1,fluid)\n",
        "Pevap = np.array([PropsSI(\"P\",\"T\",Te+273,\"Q\",1,fluid) for Te in T_evap])\n",
        "rp = Pcond/Pevap\n",
        "fig20, ax20 = plt.subplots()\n",
        "\n",
        "\n",
        "\n",
        "ax20.plot(rp,eta_v,'ko-')\n",
        "ax20.set_xlabel(\"Pressure ratio\")\n",
        "ax20.set_ylabel(\"Volumetric efficiency\")\n",
        "ax20.set_yscale('log')\n",
        "ax20.set_xscale('log')\n",
        "\n",
        "plt.show()"
      ],
      "id": "fefa52b6",
      "execution_count": null,
      "outputs": []
    },
    {
      "cell_type": "markdown",
      "metadata": {},
      "source": [
        "which seems to make the relationship linear. A candidate for a model would be then:\n",
        "\n",
        "$$\n",
        "\\ln \\eta_{\\mathrm{v}} = b_0 + b_1 \\ln r_{\\mathrm{p}}\n",
        "$$\n",
        "\n",
        "As with yesterday's post, We will use [scikit-learn](https://scikit-learn.org/stable/index.html) to *train* a model to calculate the coefficients, based on 50% of the data selected at random:\n"
      ],
      "id": "0762ceac"
    },
    {
      "cell_type": "code",
      "metadata": {},
      "source": [
        "from sklearn.metrics import r2_score\n",
        "from sklearn.model_selection import train_test_split\n",
        "from sklearn.linear_model import LinearRegression\n",
        "\n",
        "X = np.log(rp).reshape(-1,1)\n",
        "Y = np.log(eta_v)\n",
        "\n",
        "X_train,X_test,Y_train,Y_test = train_test_split(X,Y,test_size=0.5)\n",
        "\n",
        "model = LinearRegression(fit_intercept=False)\n",
        "model.fit(X_train, Y_train)\n",
        "\n",
        "fig4, ax4 = plt.subplots()\n",
        "ax4.plot(np.log(rp),np.log(eta_v),'ko')\n",
        "ax4.plot(X,model.predict(X),'k-')\n",
        "ax4.set_xlabel(\"Log of Pressure ratio\")\n",
        "ax4.set_ylabel(\"Log of Volumetric efficiency\")\n",
        "ax4.set_title('accuracy (R^2) =  %.5f'\n",
        "% r2_score(Y_test, model.predict(X_test)))\n",
        "plt.show()"
      ],
      "id": "a37a63e0",
      "execution_count": null,
      "outputs": []
    },
    {
      "cell_type": "markdown",
      "metadata": {},
      "source": [
        "The advantage of using the pressure ratio as the main feature is that the effect of the superheat degree is probably low, but we need more data with the same pressure ratio and different degrees of superheat to be sure.\n",
        "\n",
        "## Polynomials for cooling capacity\n",
        "\n",
        "The other useful thing to do with a compressor datasheet of calculating a polynomial of the form [1]:\n",
        "\n",
        "$$\n",
        "\\dot{Q} _{\\mathrm{L}} = a _0 + a _1  t _{\\mathrm{evap}} + a _2  t _{\\mathrm{evap}}^2\n",
        "$$\n",
        "\n",
        "where $\\dot{Q}_{\\mathrm{L}}$ is the cooling capacity and $t_{\\mathrm{evap}}$ is the evaporating temperature in degress Celsius. Four points of note:\n",
        "\n",
        "1. This polynomial allows you to interpolate in different points other than the tabulated ones, an also can be combined with other models in the refrigeration system;\n",
        "2. The coefficients themselves are function of the condensing temperature, the fluid properties and the compressor geometry;\n",
        "3. The same thing can be done for the power consumption, with different coefficients;\n",
        "4. The resulting polynomial is valid for the same compressor in different evaporating pressures, but keeping the superheat and subcooling degress the same as the values from the datasheet.\n"
      ],
      "id": "071f8a46"
    },
    {
      "cell_type": "code",
      "metadata": {},
      "source": [
        "from sklearn.preprocessing import PolynomialFeatures\n",
        "from sklearn.pipeline import Pipeline\n",
        "\n",
        "X = df.values[:,:1] # first column (evaporating temperature) as a 2D array, as required\n",
        "YQL = df[\"Cooling Capacity [W]\"].values\n",
        "\n",
        "X_train,X_test,QL_train,QL_test = train_test_split(X,YQL,test_size=0.5)\n",
        "\n",
        "QL_quadratic_model = Pipeline(\n",
        "[\n",
        "('poly', PolynomialFeatures(degree=2)),\n",
        "('linear', LinearRegression(fit_intercept=False))])\n",
        "QL_quadratic_model.fit(X_train, QL_train)\n",
        "QL_quadratic_pred = QL_quadratic_model.predict(X_test)\n",
        "\n",
        "fig4, ax4 = plt.subplots()\n",
        "ax4.scatter(QL_test,QL_quadratic_pred)\n",
        "ax4.grid()\n",
        "ax4.set_xlabel('Simulated cooling capacity [W]]')\n",
        "ax4.set_ylabel('Predicted cooling capacity [W]')\n",
        "ax4.set_title('accuracy (R^2) =  %.5f'\n",
        "% r2_score(QL_test, QL_quadratic_pred))\n",
        "plt.show()"
      ],
      "id": "cb8ac595",
      "execution_count": null,
      "outputs": []
    },
    {
      "cell_type": "markdown",
      "metadata": {},
      "source": [
        "The resulting coefficients are (from $a_0$ to $a_2$):\n"
      ],
      "id": "b1b76c46"
    },
    {
      "cell_type": "code",
      "metadata": {},
      "source": [
        "print(QL_quadratic_model.named_steps[\"linear\"].coef_)"
      ],
      "id": "b486a649",
      "execution_count": null,
      "outputs": []
    },
    {
      "cell_type": "markdown",
      "metadata": {},
      "source": [
        "Hence, this polynomial seems to work fine, even though we have very few data points; with more data points in a test apparatus, this same model could be retrained, making the coefficients more and more accurate. \n",
        "\n",
        "The advantage of this approach is that, if we are working with this compressor and selecting heat exchangers sizes, for instance, we do not need to evaluate thermophysical properties at each iteration but only a polynomial, which is a huge time saver. How to make this integration between models is the subject of another post.\n",
        "\n",
        "## References\n",
        "\n",
        "[1]: Stoecker, W. F. Design of thermal systems. [sl]: McGraw-Hill, 1980."
      ],
      "id": "dae21cce"
    }
  ],
  "metadata": {
    "kernelspec": {
      "name": "python3",
      "language": "python",
      "display_name": "Python 3"
    }
  },
  "nbformat": 4,
  "nbformat_minor": 5
}